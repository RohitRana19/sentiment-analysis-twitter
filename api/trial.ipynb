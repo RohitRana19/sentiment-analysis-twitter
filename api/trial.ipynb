{
 "cells": [
  {
   "cell_type": "code",
   "execution_count": 1,
   "metadata": {},
   "outputs": [
    {
     "data": {
      "text/plain": [
       "True"
      ]
     },
     "execution_count": 1,
     "metadata": {},
     "output_type": "execute_result"
    }
   ],
   "source": [
    "import tweepy\n",
    "from dotenv import find_dotenv, load_dotenv\n",
    "import os\n",
    "\n",
    "load_dotenv(find_dotenv())"
   ]
  },
  {
   "cell_type": "code",
   "execution_count": 2,
   "metadata": {},
   "outputs": [],
   "source": [
    "auth = tweepy.OAuth2BearerHandler(bearer_token=os.getenv(\"bearer_token\"))\n",
    "\n",
    "api = tweepy.API(auth=auth)\n",
    "\n",
    "resp = api.user_timeline(screen_name=\"elonmusk\", count=2)"
   ]
  },
  {
   "cell_type": "code",
   "execution_count": 3,
   "metadata": {},
   "outputs": [
    {
     "name": "stdout",
     "output_type": "stream",
     "text": [
      "2\n"
     ]
    }
   ],
   "source": [
    "print(len(resp))"
   ]
  },
  {
   "cell_type": "code",
   "execution_count": 4,
   "metadata": {},
   "outputs": [
    {
     "data": {
      "text/plain": [
       "datetime.datetime(2022, 4, 7, 8, 22, 22, tzinfo=datetime.timezone.utc)"
      ]
     },
     "execution_count": 4,
     "metadata": {},
     "output_type": "execute_result"
    }
   ],
   "source": [
    "resp[0].created_at"
   ]
  },
  {
   "cell_type": "code",
   "execution_count": 5,
   "metadata": {},
   "outputs": [
    {
     "data": {
      "text/plain": [
       "{'_api': <tweepy.api.API at 0x1f77b69b7f0>,\n",
       " '_json': {'created_at': 'Thu Apr 07 08:22:22 +0000 2022',\n",
       "  'id': 1511982702819520512,\n",
       "  'id_str': '1511982702819520512',\n",
       "  'text': 'https://t.co/TW2lLQakE5',\n",
       "  'truncated': False,\n",
       "  'entities': {'hashtags': [],\n",
       "   'symbols': [],\n",
       "   'user_mentions': [],\n",
       "   'urls': [],\n",
       "   'media': [{'id': 1511982699682140160,\n",
       "     'id_str': '1511982699682140160',\n",
       "     'indices': [0, 23],\n",
       "     'media_url': 'http://pbs.twimg.com/media/FPukQSkXEAAtaQb.jpg',\n",
       "     'media_url_https': 'https://pbs.twimg.com/media/FPukQSkXEAAtaQb.jpg',\n",
       "     'url': 'https://t.co/TW2lLQakE5',\n",
       "     'display_url': 'pic.twitter.com/TW2lLQakE5',\n",
       "     'expanded_url': 'https://twitter.com/elonmusk/status/1511982702819520512/photo/1',\n",
       "     'type': 'photo',\n",
       "     'sizes': {'large': {'w': 1080, 'h': 817, 'resize': 'fit'},\n",
       "      'thumb': {'w': 150, 'h': 150, 'resize': 'crop'},\n",
       "      'small': {'w': 680, 'h': 514, 'resize': 'fit'},\n",
       "      'medium': {'w': 1080, 'h': 817, 'resize': 'fit'}}}]},\n",
       "  'extended_entities': {'media': [{'id': 1511982699682140160,\n",
       "     'id_str': '1511982699682140160',\n",
       "     'indices': [0, 23],\n",
       "     'media_url': 'http://pbs.twimg.com/media/FPukQSkXEAAtaQb.jpg',\n",
       "     'media_url_https': 'https://pbs.twimg.com/media/FPukQSkXEAAtaQb.jpg',\n",
       "     'url': 'https://t.co/TW2lLQakE5',\n",
       "     'display_url': 'pic.twitter.com/TW2lLQakE5',\n",
       "     'expanded_url': 'https://twitter.com/elonmusk/status/1511982702819520512/photo/1',\n",
       "     'type': 'photo',\n",
       "     'sizes': {'large': {'w': 1080, 'h': 817, 'resize': 'fit'},\n",
       "      'thumb': {'w': 150, 'h': 150, 'resize': 'crop'},\n",
       "      'small': {'w': 680, 'h': 514, 'resize': 'fit'},\n",
       "      'medium': {'w': 1080, 'h': 817, 'resize': 'fit'}}}]},\n",
       "  'source': '<a href=\"http://twitter.com/download/iphone\" rel=\"nofollow\">Twitter for iPhone</a>',\n",
       "  'in_reply_to_status_id': None,\n",
       "  'in_reply_to_status_id_str': None,\n",
       "  'in_reply_to_user_id': None,\n",
       "  'in_reply_to_user_id_str': None,\n",
       "  'in_reply_to_screen_name': None,\n",
       "  'user': {'id': 44196397,\n",
       "   'id_str': '44196397',\n",
       "   'name': 'Elon Musk',\n",
       "   'screen_name': 'elonmusk',\n",
       "   'location': '',\n",
       "   'description': '',\n",
       "   'url': None,\n",
       "   'entities': {'description': {'urls': []}},\n",
       "   'protected': False,\n",
       "   'followers_count': 80947601,\n",
       "   'friends_count': 112,\n",
       "   'listed_count': 89109,\n",
       "   'created_at': 'Tue Jun 02 20:12:29 +0000 2009',\n",
       "   'favourites_count': 12726,\n",
       "   'utc_offset': None,\n",
       "   'time_zone': None,\n",
       "   'geo_enabled': False,\n",
       "   'verified': True,\n",
       "   'statuses_count': 17336,\n",
       "   'lang': None,\n",
       "   'contributors_enabled': False,\n",
       "   'is_translator': False,\n",
       "   'is_translation_enabled': False,\n",
       "   'profile_background_color': 'C0DEED',\n",
       "   'profile_background_image_url': 'http://abs.twimg.com/images/themes/theme1/bg.png',\n",
       "   'profile_background_image_url_https': 'https://abs.twimg.com/images/themes/theme1/bg.png',\n",
       "   'profile_background_tile': False,\n",
       "   'profile_image_url': 'http://pbs.twimg.com/profile_images/1503591435324563456/foUrqiEw_normal.jpg',\n",
       "   'profile_image_url_https': 'https://pbs.twimg.com/profile_images/1503591435324563456/foUrqiEw_normal.jpg',\n",
       "   'profile_banner_url': 'https://pbs.twimg.com/profile_banners/44196397/1576183471',\n",
       "   'profile_link_color': '0084B4',\n",
       "   'profile_sidebar_border_color': 'C0DEED',\n",
       "   'profile_sidebar_fill_color': 'DDEEF6',\n",
       "   'profile_text_color': '333333',\n",
       "   'profile_use_background_image': True,\n",
       "   'has_extended_profile': True,\n",
       "   'default_profile': False,\n",
       "   'default_profile_image': False,\n",
       "   'following': None,\n",
       "   'follow_request_sent': None,\n",
       "   'notifications': None,\n",
       "   'translator_type': 'none',\n",
       "   'withheld_in_countries': []},\n",
       "  'geo': None,\n",
       "  'coordinates': None,\n",
       "  'place': None,\n",
       "  'contributors': None,\n",
       "  'is_quote_status': False,\n",
       "  'retweet_count': 78611,\n",
       "  'favorite_count': 764314,\n",
       "  'favorited': False,\n",
       "  'retweeted': False,\n",
       "  'possibly_sensitive': False,\n",
       "  'lang': 'und'},\n",
       " 'created_at': datetime.datetime(2022, 4, 7, 8, 22, 22, tzinfo=datetime.timezone.utc),\n",
       " 'id': 1511982702819520512,\n",
       " 'id_str': '1511982702819520512',\n",
       " 'text': 'https://t.co/TW2lLQakE5',\n",
       " 'truncated': False,\n",
       " 'entities': {'hashtags': [],\n",
       "  'symbols': [],\n",
       "  'user_mentions': [],\n",
       "  'urls': [],\n",
       "  'media': [{'id': 1511982699682140160,\n",
       "    'id_str': '1511982699682140160',\n",
       "    'indices': [0, 23],\n",
       "    'media_url': 'http://pbs.twimg.com/media/FPukQSkXEAAtaQb.jpg',\n",
       "    'media_url_https': 'https://pbs.twimg.com/media/FPukQSkXEAAtaQb.jpg',\n",
       "    'url': 'https://t.co/TW2lLQakE5',\n",
       "    'display_url': 'pic.twitter.com/TW2lLQakE5',\n",
       "    'expanded_url': 'https://twitter.com/elonmusk/status/1511982702819520512/photo/1',\n",
       "    'type': 'photo',\n",
       "    'sizes': {'large': {'w': 1080, 'h': 817, 'resize': 'fit'},\n",
       "     'thumb': {'w': 150, 'h': 150, 'resize': 'crop'},\n",
       "     'small': {'w': 680, 'h': 514, 'resize': 'fit'},\n",
       "     'medium': {'w': 1080, 'h': 817, 'resize': 'fit'}}}]},\n",
       " 'extended_entities': {'media': [{'id': 1511982699682140160,\n",
       "    'id_str': '1511982699682140160',\n",
       "    'indices': [0, 23],\n",
       "    'media_url': 'http://pbs.twimg.com/media/FPukQSkXEAAtaQb.jpg',\n",
       "    'media_url_https': 'https://pbs.twimg.com/media/FPukQSkXEAAtaQb.jpg',\n",
       "    'url': 'https://t.co/TW2lLQakE5',\n",
       "    'display_url': 'pic.twitter.com/TW2lLQakE5',\n",
       "    'expanded_url': 'https://twitter.com/elonmusk/status/1511982702819520512/photo/1',\n",
       "    'type': 'photo',\n",
       "    'sizes': {'large': {'w': 1080, 'h': 817, 'resize': 'fit'},\n",
       "     'thumb': {'w': 150, 'h': 150, 'resize': 'crop'},\n",
       "     'small': {'w': 680, 'h': 514, 'resize': 'fit'},\n",
       "     'medium': {'w': 1080, 'h': 817, 'resize': 'fit'}}}]},\n",
       " 'source': 'Twitter for iPhone',\n",
       " 'source_url': 'http://twitter.com/download/iphone',\n",
       " 'in_reply_to_status_id': None,\n",
       " 'in_reply_to_status_id_str': None,\n",
       " 'in_reply_to_user_id': None,\n",
       " 'in_reply_to_user_id_str': None,\n",
       " 'in_reply_to_screen_name': None,\n",
       " 'author': User(_api=<tweepy.api.API object at 0x000001F77B69B7F0>, _json={'id': 44196397, 'id_str': '44196397', 'name': 'Elon Musk', 'screen_name': 'elonmusk', 'location': '', 'description': '', 'url': None, 'entities': {'description': {'urls': []}}, 'protected': False, 'followers_count': 80947601, 'friends_count': 112, 'listed_count': 89109, 'created_at': 'Tue Jun 02 20:12:29 +0000 2009', 'favourites_count': 12726, 'utc_offset': None, 'time_zone': None, 'geo_enabled': False, 'verified': True, 'statuses_count': 17336, 'lang': None, 'contributors_enabled': False, 'is_translator': False, 'is_translation_enabled': False, 'profile_background_color': 'C0DEED', 'profile_background_image_url': 'http://abs.twimg.com/images/themes/theme1/bg.png', 'profile_background_image_url_https': 'https://abs.twimg.com/images/themes/theme1/bg.png', 'profile_background_tile': False, 'profile_image_url': 'http://pbs.twimg.com/profile_images/1503591435324563456/foUrqiEw_normal.jpg', 'profile_image_url_https': 'https://pbs.twimg.com/profile_images/1503591435324563456/foUrqiEw_normal.jpg', 'profile_banner_url': 'https://pbs.twimg.com/profile_banners/44196397/1576183471', 'profile_link_color': '0084B4', 'profile_sidebar_border_color': 'C0DEED', 'profile_sidebar_fill_color': 'DDEEF6', 'profile_text_color': '333333', 'profile_use_background_image': True, 'has_extended_profile': True, 'default_profile': False, 'default_profile_image': False, 'following': None, 'follow_request_sent': None, 'notifications': None, 'translator_type': 'none', 'withheld_in_countries': []}, id=44196397, id_str='44196397', name='Elon Musk', screen_name='elonmusk', location='', description='', url=None, entities={'description': {'urls': []}}, protected=False, followers_count=80947601, friends_count=112, listed_count=89109, created_at=datetime.datetime(2009, 6, 2, 20, 12, 29, tzinfo=datetime.timezone.utc), favourites_count=12726, utc_offset=None, time_zone=None, geo_enabled=False, verified=True, statuses_count=17336, lang=None, contributors_enabled=False, is_translator=False, is_translation_enabled=False, profile_background_color='C0DEED', profile_background_image_url='http://abs.twimg.com/images/themes/theme1/bg.png', profile_background_image_url_https='https://abs.twimg.com/images/themes/theme1/bg.png', profile_background_tile=False, profile_image_url='http://pbs.twimg.com/profile_images/1503591435324563456/foUrqiEw_normal.jpg', profile_image_url_https='https://pbs.twimg.com/profile_images/1503591435324563456/foUrqiEw_normal.jpg', profile_banner_url='https://pbs.twimg.com/profile_banners/44196397/1576183471', profile_link_color='0084B4', profile_sidebar_border_color='C0DEED', profile_sidebar_fill_color='DDEEF6', profile_text_color='333333', profile_use_background_image=True, has_extended_profile=True, default_profile=False, default_profile_image=False, following=False, follow_request_sent=None, notifications=None, translator_type='none', withheld_in_countries=[]),\n",
       " 'user': User(_api=<tweepy.api.API object at 0x000001F77B69B7F0>, _json={'id': 44196397, 'id_str': '44196397', 'name': 'Elon Musk', 'screen_name': 'elonmusk', 'location': '', 'description': '', 'url': None, 'entities': {'description': {'urls': []}}, 'protected': False, 'followers_count': 80947601, 'friends_count': 112, 'listed_count': 89109, 'created_at': 'Tue Jun 02 20:12:29 +0000 2009', 'favourites_count': 12726, 'utc_offset': None, 'time_zone': None, 'geo_enabled': False, 'verified': True, 'statuses_count': 17336, 'lang': None, 'contributors_enabled': False, 'is_translator': False, 'is_translation_enabled': False, 'profile_background_color': 'C0DEED', 'profile_background_image_url': 'http://abs.twimg.com/images/themes/theme1/bg.png', 'profile_background_image_url_https': 'https://abs.twimg.com/images/themes/theme1/bg.png', 'profile_background_tile': False, 'profile_image_url': 'http://pbs.twimg.com/profile_images/1503591435324563456/foUrqiEw_normal.jpg', 'profile_image_url_https': 'https://pbs.twimg.com/profile_images/1503591435324563456/foUrqiEw_normal.jpg', 'profile_banner_url': 'https://pbs.twimg.com/profile_banners/44196397/1576183471', 'profile_link_color': '0084B4', 'profile_sidebar_border_color': 'C0DEED', 'profile_sidebar_fill_color': 'DDEEF6', 'profile_text_color': '333333', 'profile_use_background_image': True, 'has_extended_profile': True, 'default_profile': False, 'default_profile_image': False, 'following': None, 'follow_request_sent': None, 'notifications': None, 'translator_type': 'none', 'withheld_in_countries': []}, id=44196397, id_str='44196397', name='Elon Musk', screen_name='elonmusk', location='', description='', url=None, entities={'description': {'urls': []}}, protected=False, followers_count=80947601, friends_count=112, listed_count=89109, created_at=datetime.datetime(2009, 6, 2, 20, 12, 29, tzinfo=datetime.timezone.utc), favourites_count=12726, utc_offset=None, time_zone=None, geo_enabled=False, verified=True, statuses_count=17336, lang=None, contributors_enabled=False, is_translator=False, is_translation_enabled=False, profile_background_color='C0DEED', profile_background_image_url='http://abs.twimg.com/images/themes/theme1/bg.png', profile_background_image_url_https='https://abs.twimg.com/images/themes/theme1/bg.png', profile_background_tile=False, profile_image_url='http://pbs.twimg.com/profile_images/1503591435324563456/foUrqiEw_normal.jpg', profile_image_url_https='https://pbs.twimg.com/profile_images/1503591435324563456/foUrqiEw_normal.jpg', profile_banner_url='https://pbs.twimg.com/profile_banners/44196397/1576183471', profile_link_color='0084B4', profile_sidebar_border_color='C0DEED', profile_sidebar_fill_color='DDEEF6', profile_text_color='333333', profile_use_background_image=True, has_extended_profile=True, default_profile=False, default_profile_image=False, following=False, follow_request_sent=None, notifications=None, translator_type='none', withheld_in_countries=[]),\n",
       " 'geo': None,\n",
       " 'coordinates': None,\n",
       " 'place': None,\n",
       " 'contributors': None,\n",
       " 'is_quote_status': False,\n",
       " 'retweet_count': 78611,\n",
       " 'favorite_count': 764314,\n",
       " 'favorited': False,\n",
       " 'retweeted': False,\n",
       " 'possibly_sensitive': False,\n",
       " 'lang': 'und'}"
      ]
     },
     "execution_count": 5,
     "metadata": {},
     "output_type": "execute_result"
    }
   ],
   "source": [
    "resp[0].__dict__"
   ]
  },
  {
   "cell_type": "code",
   "execution_count": 20,
   "metadata": {},
   "outputs": [],
   "source": [
    "def response_filter(responses):\n",
    "\n",
    "    user = responses[0].user\n",
    "\n",
    "    userObj = {\n",
    "        \"id_str\": user.id_str,\n",
    "        \"name\": user.name,\n",
    "        \"screen_name\": user.screen_name,\n",
    "        \"location\": user.location,\n",
    "        \"description\": user.description,\n",
    "        \"followers_count\": user.followers_count,\n",
    "        \"friends_count\": user.friends_count,\n",
    "        \"favourites_count\": user.favourites_count,\n",
    "        \"listed_count\": user.listed_count,\n",
    "        \"created_at\": user.created_at,\n",
    "        \"verified\": user.verified,\n",
    "        \"statuses_count\": user.statuses_count,\n",
    "        \"profile_background_image_url_https\":\n",
    "        user.profile_background_image_url_https,\n",
    "        \"profile_image_url\": user.profile_image_url,\n",
    "        \"entities\": user.entities\n",
    "    }\n",
    "\n",
    "    respArr = [{\n",
    "        \"created_at\": resp.created_at,\n",
    "        \"id_str\": resp.id_str,\n",
    "        \"text\": resp.text,\n",
    "        \"entities\": resp.entities,\n",
    "        \"retweet_count\": resp.retweet_count,\n",
    "        \"favorite_count\": resp.favorite_count\n",
    "    } for resp in responses]\n",
    "\n",
    "    respObj = {\"user\": userObj, \"tweets\": respArr}\n",
    "\n",
    "    return respObj\n",
    "\n",
    "\n",
    "def get_by_screen_name(screen_name, count):\n",
    "    global api\n",
    "\n",
    "    responses = api.user_timeline(screen_name=screen_name, count=count)\n",
    "    return response_filter(responses)\n",
    "\n",
    "\n",
    "def get_by_user_id(uid, count):\n",
    "    global api\n",
    "\n",
    "    responses = api.user_timeline(user_id=uid, count=count)\n",
    "    return response_filter(responses)\n",
    "\n",
    "\n",
    "def get_by_tweet_id(tid):\n",
    "    global api\n",
    "\n",
    "    response = api.get_status(id=tid, include_entities=True)\n",
    "    return response_filter([response])"
   ]
  },
  {
   "cell_type": "code",
   "execution_count": 21,
   "metadata": {},
   "outputs": [
    {
     "data": {
      "text/plain": [
       "{'user': {'id_str': '44196397',\n",
       "  'name': 'Elon Musk',\n",
       "  'screen_name': 'elonmusk',\n",
       "  'location': '',\n",
       "  'description': '',\n",
       "  'followers_count': 80952435,\n",
       "  'friends_count': 112,\n",
       "  'favourites_count': 12727,\n",
       "  'listed_count': 89090,\n",
       "  'created_at': datetime.datetime(2009, 6, 2, 20, 12, 29, tzinfo=datetime.timezone.utc),\n",
       "  'verified': True,\n",
       "  'statuses_count': 17337,\n",
       "  'profile_background_image_url_https': 'https://abs.twimg.com/images/themes/theme1/bg.png',\n",
       "  'profile_image_url': 'http://pbs.twimg.com/profile_images/1503591435324563456/foUrqiEw_normal.jpg',\n",
       "  'entities': {'description': {'urls': []}}},\n",
       " 'tweets': [{'created_at': datetime.datetime(2022, 4, 7, 8, 22, 22, tzinfo=datetime.timezone.utc),\n",
       "   'id_str': '1511982702819520512',\n",
       "   'text': 'https://t.co/TW2lLQakE5',\n",
       "   'entities': {'hashtags': [],\n",
       "    'symbols': [],\n",
       "    'user_mentions': [],\n",
       "    'urls': [],\n",
       "    'media': [{'id': 1511982699682140160,\n",
       "      'id_str': '1511982699682140160',\n",
       "      'indices': [0, 23],\n",
       "      'media_url': 'http://pbs.twimg.com/media/FPukQSkXEAAtaQb.jpg',\n",
       "      'media_url_https': 'https://pbs.twimg.com/media/FPukQSkXEAAtaQb.jpg',\n",
       "      'url': 'https://t.co/TW2lLQakE5',\n",
       "      'display_url': 'pic.twitter.com/TW2lLQakE5',\n",
       "      'expanded_url': 'https://twitter.com/elonmusk/status/1511982702819520512/photo/1',\n",
       "      'type': 'photo',\n",
       "      'sizes': {'large': {'w': 1080, 'h': 817, 'resize': 'fit'},\n",
       "       'thumb': {'w': 150, 'h': 150, 'resize': 'crop'},\n",
       "       'small': {'w': 680, 'h': 514, 'resize': 'fit'},\n",
       "       'medium': {'w': 1080, 'h': 817, 'resize': 'fit'}}}]},\n",
       "   'retweet_count': 80700,\n",
       "   'favorite_count': 785169}]}"
      ]
     },
     "execution_count": 21,
     "metadata": {},
     "output_type": "execute_result"
    }
   ],
   "source": [
    "get_by_tweet_id(\"1511982702819520512\")"
   ]
  }
 ],
 "metadata": {
  "interpreter": {
   "hash": "3767ef58623b82ec427df79952471818aa54f563c9030ef21bb2540f1f431439"
  },
  "kernelspec": {
   "display_name": "Python 3.9.6 ('venv': venv)",
   "language": "python",
   "name": "python3"
  },
  "language_info": {
   "codemirror_mode": {
    "name": "ipython",
    "version": 3
   },
   "file_extension": ".py",
   "mimetype": "text/x-python",
   "name": "python",
   "nbconvert_exporter": "python",
   "pygments_lexer": "ipython3",
   "version": "3.9.6"
  },
  "orig_nbformat": 4
 },
 "nbformat": 4,
 "nbformat_minor": 2
}
